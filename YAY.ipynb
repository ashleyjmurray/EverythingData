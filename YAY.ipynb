{
 "cells": [
  {
   "cell_type": "code",
   "execution_count": 48,
   "metadata": {},
   "outputs": [],
   "source": [
    "import numpy as np\n",
    "data = []\n",
    "file = open(\"tfidfdata.csv\")\n",
    "for line in file.readlines():\n",
    "    data.append(line.strip().split(','))"
   ]
  },
  {
   "cell_type": "code",
   "execution_count": 49,
   "metadata": {},
   "outputs": [],
   "source": [
    "words = []\n",
    "for row in data:\n",
    "    words.append(row[1])"
   ]
  },
  {
   "cell_type": "code",
   "execution_count": 50,
   "metadata": {},
   "outputs": [],
   "source": [
    "word = set(words)\n",
    "back = list(word)"
   ]
  },
  {
   "cell_type": "code",
   "execution_count": 45,
   "metadata": {},
   "outputs": [],
   "source": [
    "dic = {}\n",
    "insidearray = np.zeros(len(back))\n",
    "alist = insidearray.tolist()\n",
    "for row in data:\n",
    "    if row[0] not in dic:\n",
    "        blist = alist[:]\n",
    "        index = back.index(row[1])\n",
    "        y = float(row[2])\n",
    "        blist[index:index] = [y]\n",
    "        dic[row[0]] = blist\n",
    "    else:\n",
    "        index1 = back.index(row[1])\n",
    "        x = float(row[2])\n",
    "        blist[index1:index1] = [x]\n",
    "        dic.update({row[0]: blist})"
   ]
  },
  {
   "cell_type": "code",
   "execution_count": null,
   "metadata": {},
   "outputs": [],
   "source": []
  },
  {
   "cell_type": "code",
   "execution_count": 78,
   "metadata": {},
   "outputs": [],
   "source": [
    "import math\n",
    "def cosinesimilarity(document):\n",
    "    cosinedic = {}\n",
    "    inputcosine = dic.get(document)\n",
    "    inputarray = np.asarray(inputcosine)\n",
    "    counter = 0\n",
    "    for i in inputarray:\n",
    "        sq = math.pow(i, 2)\n",
    "        counter = counter + sq\n",
    "    normalizedvalue = math.sqrt(counter)\n",
    "    for key in dic:\n",
    "        keycosine = dic.get(key)\n",
    "        keyarray = np.asarray(keycosine)\n",
    "        numerator = np.dot(keycosine, keyarray)\n",
    "        c = 0\n",
    "        for j in keyarray:\n",
    "            s = math.pow(j, 2)\n",
    "            c = c + s\n",
    "        normie = math.sqrt(c)\n",
    "        denominator = normalizedvalue * normie\n",
    "        relationship = numerator/denominator\n",
    "        cosinedic[key] = [relationship]\n",
    "    topfive = sorted(cosinedic, key=cosinedic.get, reverse=True)[:5]\n",
    "    scores =[]\n",
    "    for i in topfive:\n",
    "        scores.append(cosinedic.get(i))\n",
    "    return topfive, scores"
   ]
  },
  {
   "cell_type": "code",
   "execution_count": 79,
   "metadata": {},
   "outputs": [
    {
     "data": {
      "text/plain": [
       "(['b000ndibqy', 'b000ndibq4', 'b000ndichc', 'b0007lw22q', 'b0007lw22g'],\n",
       " [[18.352608230864107],\n",
       "  [18.319584172691727],\n",
       "  [17.836423626863997],\n",
       "  [17.341160809230605],\n",
       "  [16.954172190409356]])"
      ]
     },
     "execution_count": 79,
     "metadata": {},
     "output_type": "execute_result"
    }
   ],
   "source": [
    "cosinesimilarity('b0001fyrqm')"
   ]
  },
  {
   "cell_type": "code",
   "execution_count": null,
   "metadata": {
    "collapsed": true
   },
   "outputs": [],
   "source": []
  }
 ],
 "metadata": {
  "kernelspec": {
   "display_name": "Python 3",
   "language": "python",
   "name": "python3"
  },
  "language_info": {
   "codemirror_mode": {
    "name": "ipython",
    "version": 3
   },
   "file_extension": ".py",
   "mimetype": "text/x-python",
   "name": "python",
   "nbconvert_exporter": "python",
   "pygments_lexer": "ipython3",
   "version": "3.6.8"
  }
 },
 "nbformat": 4,
 "nbformat_minor": 2
}
